{
 "cells": [
  {
   "cell_type": "markdown",
   "metadata": {},
   "source": [
    "# Task 1"
   ]
  },
  {
   "cell_type": "code",
   "execution_count": 3,
   "metadata": {},
   "outputs": [
    {
     "data": {
      "text/plain": [
       "1150.0"
      ]
     },
     "execution_count": 3,
     "metadata": {},
     "output_type": "execute_result"
    }
   ],
   "source": [
    "# 1. You survey households in your area to find the average rent they are paying. Find the\n",
    "# standard deviation from the following data:\n",
    "# $1550, $1700, $900, $850, $1000, $950.\n",
    "import numpy as np\n",
    "\n",
    "rent = [1500,1700,900,850,1000,950]\n",
    "np.mean(rent)"
   ]
  },
  {
   "cell_type": "code",
   "execution_count": 4,
   "metadata": {},
   "outputs": [
    {
     "data": {
      "text/plain": [
       "71.99479147827293"
      ]
     },
     "execution_count": 4,
     "metadata": {},
     "output_type": "execute_result"
    }
   ],
   "source": [
    "# 2. Find the variance for the following set of data representing trees in California (heights in\n",
    "# feet):\n",
    "# 3, 21, 98, 203, 17, 9\n",
    "import math\n",
    "\n",
    "\"\"\"def stdvar(l):\n",
    "    sum = 0\n",
    "    for i in l:\n",
    "        sum += (i-np.mean(l))**2\n",
    "    return math.sqrt(sum/len(l))\"\"\"\n",
    "\n",
    "l = [3,21,98,203,17,9]\n",
    "#stdvar(l)\n",
    "np.std(l)"
   ]
  },
  {
   "cell_type": "code",
   "execution_count": 5,
   "metadata": {},
   "outputs": [
    {
     "data": {
      "text/html": [
       "<div>\n",
       "<style scoped>\n",
       "    .dataframe tbody tr th:only-of-type {\n",
       "        vertical-align: middle;\n",
       "    }\n",
       "\n",
       "    .dataframe tbody tr th {\n",
       "        vertical-align: top;\n",
       "    }\n",
       "\n",
       "    .dataframe thead th {\n",
       "        text-align: right;\n",
       "    }\n",
       "</style>\n",
       "<table border=\"1\" class=\"dataframe\">\n",
       "  <thead>\n",
       "    <tr style=\"text-align: right;\">\n",
       "      <th></th>\n",
       "      <th>X</th>\n",
       "      <th>P(X)</th>\n",
       "    </tr>\n",
       "  </thead>\n",
       "  <tbody>\n",
       "    <tr>\n",
       "      <th>0</th>\n",
       "      <td>0</td>\n",
       "      <td>0.80</td>\n",
       "    </tr>\n",
       "    <tr>\n",
       "      <th>1</th>\n",
       "      <td>1</td>\n",
       "      <td>0.10</td>\n",
       "    </tr>\n",
       "    <tr>\n",
       "      <th>2</th>\n",
       "      <td>2</td>\n",
       "      <td>0.07</td>\n",
       "    </tr>\n",
       "    <tr>\n",
       "      <th>3</th>\n",
       "      <td>3</td>\n",
       "      <td>0.03</td>\n",
       "    </tr>\n",
       "  </tbody>\n",
       "</table>\n",
       "</div>"
      ],
      "text/plain": [
       "   X  P(X)\n",
       "0  0  0.80\n",
       "1  1  0.10\n",
       "2  2  0.07\n",
       "3  3  0.03"
      ]
     },
     "execution_count": 5,
     "metadata": {},
     "output_type": "execute_result"
    }
   ],
   "source": [
    "# 3. In a class on 100 students, 80 students passed in all subjects, 10 failed in one subject, 7 failed\n",
    "# in two subjects and 3 failed in three subjects. Find the probability distribution of the variable for\n",
    "# number of subjects a student from the given class has failed in.\n",
    "import pandas as pd\n",
    "\n",
    "sub_0 = 80/100\n",
    "sub_1 = 10/100\n",
    "sub_2 = 7/100\n",
    "sub_3 = 3/100\n",
    "\n",
    "dist = [[0,sub_0],[1,sub_1],[2,sub_2],[3,sub_3]]\n",
    "prob_dist = pd.DataFrame(dist,columns=['X','P(X)'])\n",
    "prob_dist"
   ]
  },
  {
   "cell_type": "markdown",
   "metadata": {},
   "source": [
    "# Task 2"
   ]
  },
  {
   "cell_type": "code",
   "execution_count": 6,
   "metadata": {},
   "outputs": [
    {
     "name": "stdout",
     "output_type": "stream",
     "text": [
      "0.00000342649582307786\n"
     ]
    }
   ],
   "source": [
    "# 1. A test is conducted which is consisting of 20 MCQs (multiple choices questions) with every\n",
    "# MCQ having its four options out of which only one is correct. Determine the probability that a\n",
    "# person undertaking that test has answered exactly 5 questions wrong.\n",
    "\n",
    "# Defining func for binomial distribution\n",
    "def bin_dist(n,r,p_succ):\n",
    "    p_fail = 1 - p_succ\n",
    "    t = math.factorial(n)/(math.factorial(r)*math.factorial(n-r))\n",
    "    ans = t * (p_succ**(r))*(p_fail**(n-r))\n",
    "    return ans\n",
    "n = 20\n",
    "X = 5\n",
    "prob_succ = 3/4 # prob of getting ques wrong\n",
    "print(\"{:.20f}\".format(bin_dist(n,X,prob_succ)))\n"
   ]
  },
  {
   "cell_type": "code",
   "execution_count": 7,
   "metadata": {},
   "outputs": [
    {
     "name": "stdout",
     "output_type": "stream",
     "text": [
      "0.029531204310524296\n"
     ]
    }
   ],
   "source": [
    "# 2. A die marked A to E is rolled 50 times. Find the probability of getting a “D” exactly 5 times.\n",
    "\n",
    "n=50\n",
    "X=5\n",
    "prob_getting_D = 1/5\n",
    "#using the func defined for binomial distribution\n",
    "print(bin_dist(n,X,prob_getting_D))\n"
   ]
  },
  {
   "cell_type": "code",
   "execution_count": 9,
   "metadata": {},
   "outputs": [
    {
     "name": "stdout",
     "output_type": "stream",
     "text": [
      "Probability of getting 2 red : 0.133333 \n",
      "Probability of getting 2 black : 0.333333\n",
      "Probaility of getting 1 red and 1 black: 0.266667\n"
     ]
    }
   ],
   "source": [
    "# 3. Two balls are drawn at random in succession without replacement from an urn containing 4\n",
    "# red balls and 6 black balls.\n",
    "# Find the probabilities of all the possible outcomes.\n",
    "\n",
    "total_outcome = 10\n",
    "red = 4 \n",
    "black = 6\n",
    "\n",
    "print(\"Probability of getting 2 red : %f \" %(4/10*3/9))\n",
    "print(\"Probability of getting 2 black : %f\" % (6/10*5/9))\n",
    "print(\"Probaility of getting 1 red and 1 black: %f\" %(4/10*6/9))"
   ]
  },
  {
   "cell_type": "code",
   "execution_count": null,
   "metadata": {},
   "outputs": [],
   "source": []
  }
 ],
 "metadata": {
  "kernelspec": {
   "display_name": "Python 3",
   "language": "python",
   "name": "python3"
  },
  "language_info": {
   "codemirror_mode": {
    "name": "ipython",
    "version": 3
   },
   "file_extension": ".py",
   "mimetype": "text/x-python",
   "name": "python",
   "nbconvert_exporter": "python",
   "pygments_lexer": "ipython3",
   "version": "3.6.5"
  }
 },
 "nbformat": 4,
 "nbformat_minor": 2
}
